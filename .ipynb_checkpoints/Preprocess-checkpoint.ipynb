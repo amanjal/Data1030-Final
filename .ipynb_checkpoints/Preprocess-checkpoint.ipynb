{
 "cells": [
  {
   "cell_type": "code",
   "execution_count": 49,
   "id": "d8b5aa56-e7c1-491b-8da8-12ecedbcd1eb",
   "metadata": {},
   "outputs": [
    {
     "name": "stdout",
     "output_type": "stream",
     "text": [
      "starting\n"
     ]
    },
    {
     "name": "stderr",
     "output_type": "stream",
     "text": [
      "/var/folders/6t/hqt0dlv94t756tpd5mb94c4m0000gn/T/ipykernel_20898/1463391467.py:7: DtypeWarning: Columns (7,8) have mixed types. Specify dtype option on import or set low_memory=False.\n",
      "  df_total = pd.read_csv('Data/Flights.csv')\n"
     ]
    },
    {
     "name": "stdout",
     "output_type": "stream",
     "text": [
      "DONE\n",
      "(104804, 26)\n"
     ]
    }
   ],
   "source": [
    "# Cell to load dataset, only run once since dataset is very very large\n",
    "import pandas as pd \n",
    "import matplotlib.pyplot as plt\n",
    "import numpy as np\n",
    "\n",
    "print(\"starting\")\n",
    "df_total = pd.read_csv('Data/Flights.csv')\n",
    "df_temp1 = df_total[df_total['ORIGIN_AIRPORT'] == 'BOS']\n",
    "df_temp2 = df_temp1[df_temp1['CANCELLED'] == 0]\n",
    "df = df_temp2[df_temp2['DIVERTED'] == 0]\n",
    "print(\"DONE\")\n",
    "# Our prediction task is estimating delay so we do not care about cancellation. In addition, all data from year\n",
    "# and origin airport is the same so we remove it\n",
    "df = df.drop(['CANCELLED', 'DIVERTED', 'CANCELLATION_REASON', 'YEAR', 'ORIGIN_AIRPORT'], axis = 1)\n",
    "print(df.shape)"
   ]
  },
  {
   "cell_type": "code",
   "execution_count": 50,
   "id": "bb4d87e5-cf08-4107-87fb-8ad515902e50",
   "metadata": {},
   "outputs": [
    {
     "name": "stdout",
     "output_type": "stream",
     "text": [
      "MONTH                    int64\n",
      "DAY                      int64\n",
      "DAY_OF_WEEK              int64\n",
      "AIRLINE                 object\n",
      "FLIGHT_NUMBER            int64\n",
      "TAIL_NUMBER             object\n",
      "DESTINATION_AIRPORT     object\n",
      "SCHEDULED_DEPARTURE      int64\n",
      "DEPARTURE_TIME         float64\n",
      "DEPARTURE_DELAY        float64\n",
      "TAXI_OUT               float64\n",
      "WHEELS_OFF             float64\n",
      "SCHEDULED_TIME         float64\n",
      "ELAPSED_TIME           float64\n",
      "AIR_TIME               float64\n",
      "DISTANCE                 int64\n",
      "WHEELS_ON              float64\n",
      "TAXI_IN                float64\n",
      "SCHEDULED_ARRIVAL        int64\n",
      "ARRIVAL_TIME           float64\n",
      "ARRIVAL_DELAY          float64\n",
      "AIR_SYSTEM_DELAY       float64\n",
      "SECURITY_DELAY         float64\n",
      "AIRLINE_DELAY          float64\n",
      "LATE_AIRCRAFT_DELAY    float64\n",
      "WEATHER_DELAY          float64\n",
      "dtype: object\n"
     ]
    }
   ],
   "source": [
    "# Print columns and types\n",
    "print(df.dtypes)\n",
    "# print(df.dtypes)"
   ]
  },
  {
   "cell_type": "code",
   "execution_count": 85,
   "id": "b16e340a-8227-44b3-8604-9a6786d7b80c",
   "metadata": {},
   "outputs": [
    {
     "ename": "KeyError",
     "evalue": "\"['DEPARTURE_TIME', 'DEPARTURE_DELAY', 'TAXI_OUT', 'WHEELS_OFF', 'ELAPSED_TIME', 'AIR_TIME', 'WHEELS_ON', 'TAXI_IN', 'ARRIVAL_TIME', 'AIR_SYSTEM_DELAY', 'SECURITY_DELAY', 'AIRLINE_DELAY', 'LATE_AIRCRAFT_DELAY', 'WEATHER_DELAY', 'TAIL_NUMBER'] not found in axis\"",
     "output_type": "error",
     "traceback": [
      "\u001b[0;31m---------------------------------------------------------------------------\u001b[0m",
      "\u001b[0;31mKeyError\u001b[0m                                  Traceback (most recent call last)",
      "Cell \u001b[0;32mIn[85], line 2\u001b[0m\n\u001b[1;32m      1\u001b[0m \u001b[38;5;66;03m# We also need to remove features we will not have access to ahead of the day of departure\u001b[39;00m\n\u001b[0;32m----> 2\u001b[0m df \u001b[38;5;241m=\u001b[39m \u001b[43mdf\u001b[49m\u001b[38;5;241;43m.\u001b[39;49m\u001b[43mdrop\u001b[49m\u001b[43m(\u001b[49m\u001b[43m[\u001b[49m\u001b[38;5;124;43m'\u001b[39;49m\u001b[38;5;124;43mDEPARTURE_TIME\u001b[39;49m\u001b[38;5;124;43m'\u001b[39;49m\u001b[43m,\u001b[49m\u001b[43m \u001b[49m\u001b[38;5;124;43m'\u001b[39;49m\u001b[38;5;124;43mDEPARTURE_DELAY\u001b[39;49m\u001b[38;5;124;43m'\u001b[39;49m\u001b[43m,\u001b[49m\u001b[43m \u001b[49m\u001b[38;5;124;43m'\u001b[39;49m\u001b[38;5;124;43mTAXI_OUT\u001b[39;49m\u001b[38;5;124;43m'\u001b[39;49m\u001b[43m,\u001b[49m\u001b[43m \u001b[49m\u001b[38;5;124;43m'\u001b[39;49m\u001b[38;5;124;43mWHEELS_OFF\u001b[39;49m\u001b[38;5;124;43m'\u001b[39;49m\u001b[43m,\u001b[49m\u001b[43m \u001b[49m\u001b[38;5;124;43m'\u001b[39;49m\u001b[38;5;124;43mELAPSED_TIME\u001b[39;49m\u001b[38;5;124;43m'\u001b[39;49m\u001b[43m,\u001b[49m\u001b[43m \u001b[49m\u001b[38;5;124;43m'\u001b[39;49m\u001b[38;5;124;43mAIR_TIME\u001b[39;49m\u001b[38;5;124;43m'\u001b[39;49m\u001b[43m,\u001b[49m\u001b[43m \u001b[49m\u001b[38;5;124;43m'\u001b[39;49m\u001b[38;5;124;43mWHEELS_ON\u001b[39;49m\u001b[38;5;124;43m'\u001b[39;49m\u001b[43m,\u001b[49m\u001b[43m \u001b[49m\u001b[38;5;124;43m'\u001b[39;49m\u001b[38;5;124;43mTAXI_IN\u001b[39;49m\u001b[38;5;124;43m'\u001b[39;49m\u001b[43m,\u001b[49m\u001b[43m \u001b[49m\u001b[38;5;124;43m'\u001b[39;49m\u001b[38;5;124;43mARRIVAL_TIME\u001b[39;49m\u001b[38;5;124;43m'\u001b[39;49m\u001b[43m,\u001b[49m\n\u001b[1;32m      3\u001b[0m \u001b[43m             \u001b[49m\u001b[38;5;124;43m'\u001b[39;49m\u001b[38;5;124;43mAIR_SYSTEM_DELAY\u001b[39;49m\u001b[38;5;124;43m'\u001b[39;49m\u001b[43m,\u001b[49m\u001b[43m \u001b[49m\u001b[38;5;124;43m'\u001b[39;49m\u001b[38;5;124;43mSECURITY_DELAY\u001b[39;49m\u001b[38;5;124;43m'\u001b[39;49m\u001b[43m,\u001b[49m\u001b[43m \u001b[49m\u001b[38;5;124;43m'\u001b[39;49m\u001b[38;5;124;43mAIRLINE_DELAY\u001b[39;49m\u001b[38;5;124;43m'\u001b[39;49m\u001b[43m,\u001b[49m\u001b[43m \u001b[49m\u001b[38;5;124;43m'\u001b[39;49m\u001b[38;5;124;43mLATE_AIRCRAFT_DELAY\u001b[39;49m\u001b[38;5;124;43m'\u001b[39;49m\u001b[43m,\u001b[49m\u001b[43m \u001b[49m\u001b[38;5;124;43m'\u001b[39;49m\u001b[38;5;124;43mWEATHER_DELAY\u001b[39;49m\u001b[38;5;124;43m'\u001b[39;49m\u001b[43m,\u001b[49m\u001b[43m \u001b[49m\u001b[38;5;124;43m'\u001b[39;49m\u001b[38;5;124;43mTAIL_NUMBER\u001b[39;49m\u001b[38;5;124;43m'\u001b[39;49m\u001b[43m]\u001b[49m\u001b[43m,\u001b[49m\u001b[43m \u001b[49m\u001b[43maxis\u001b[49m\u001b[38;5;241;43m=\u001b[39;49m\u001b[38;5;241;43m1\u001b[39;49m\u001b[43m)\u001b[49m\n",
      "File \u001b[0;32m~/anaconda3/envs/data1030/lib/python3.11/site-packages/pandas/core/frame.py:5258\u001b[0m, in \u001b[0;36mDataFrame.drop\u001b[0;34m(self, labels, axis, index, columns, level, inplace, errors)\u001b[0m\n\u001b[1;32m   5110\u001b[0m \u001b[38;5;28;01mdef\u001b[39;00m \u001b[38;5;21mdrop\u001b[39m(\n\u001b[1;32m   5111\u001b[0m     \u001b[38;5;28mself\u001b[39m,\n\u001b[1;32m   5112\u001b[0m     labels: IndexLabel \u001b[38;5;241m=\u001b[39m \u001b[38;5;28;01mNone\u001b[39;00m,\n\u001b[0;32m   (...)\u001b[0m\n\u001b[1;32m   5119\u001b[0m     errors: IgnoreRaise \u001b[38;5;241m=\u001b[39m \u001b[38;5;124m\"\u001b[39m\u001b[38;5;124mraise\u001b[39m\u001b[38;5;124m\"\u001b[39m,\n\u001b[1;32m   5120\u001b[0m ) \u001b[38;5;241m-\u001b[39m\u001b[38;5;241m>\u001b[39m DataFrame \u001b[38;5;241m|\u001b[39m \u001b[38;5;28;01mNone\u001b[39;00m:\n\u001b[1;32m   5121\u001b[0m \u001b[38;5;250m    \u001b[39m\u001b[38;5;124;03m\"\"\"\u001b[39;00m\n\u001b[1;32m   5122\u001b[0m \u001b[38;5;124;03m    Drop specified labels from rows or columns.\u001b[39;00m\n\u001b[1;32m   5123\u001b[0m \n\u001b[0;32m   (...)\u001b[0m\n\u001b[1;32m   5256\u001b[0m \u001b[38;5;124;03m            weight  1.0     0.8\u001b[39;00m\n\u001b[1;32m   5257\u001b[0m \u001b[38;5;124;03m    \"\"\"\u001b[39;00m\n\u001b[0;32m-> 5258\u001b[0m     \u001b[38;5;28;01mreturn\u001b[39;00m \u001b[38;5;28;43msuper\u001b[39;49m\u001b[43m(\u001b[49m\u001b[43m)\u001b[49m\u001b[38;5;241;43m.\u001b[39;49m\u001b[43mdrop\u001b[49m\u001b[43m(\u001b[49m\n\u001b[1;32m   5259\u001b[0m \u001b[43m        \u001b[49m\u001b[43mlabels\u001b[49m\u001b[38;5;241;43m=\u001b[39;49m\u001b[43mlabels\u001b[49m\u001b[43m,\u001b[49m\n\u001b[1;32m   5260\u001b[0m \u001b[43m        \u001b[49m\u001b[43maxis\u001b[49m\u001b[38;5;241;43m=\u001b[39;49m\u001b[43maxis\u001b[49m\u001b[43m,\u001b[49m\n\u001b[1;32m   5261\u001b[0m \u001b[43m        \u001b[49m\u001b[43mindex\u001b[49m\u001b[38;5;241;43m=\u001b[39;49m\u001b[43mindex\u001b[49m\u001b[43m,\u001b[49m\n\u001b[1;32m   5262\u001b[0m \u001b[43m        \u001b[49m\u001b[43mcolumns\u001b[49m\u001b[38;5;241;43m=\u001b[39;49m\u001b[43mcolumns\u001b[49m\u001b[43m,\u001b[49m\n\u001b[1;32m   5263\u001b[0m \u001b[43m        \u001b[49m\u001b[43mlevel\u001b[49m\u001b[38;5;241;43m=\u001b[39;49m\u001b[43mlevel\u001b[49m\u001b[43m,\u001b[49m\n\u001b[1;32m   5264\u001b[0m \u001b[43m        \u001b[49m\u001b[43minplace\u001b[49m\u001b[38;5;241;43m=\u001b[39;49m\u001b[43minplace\u001b[49m\u001b[43m,\u001b[49m\n\u001b[1;32m   5265\u001b[0m \u001b[43m        \u001b[49m\u001b[43merrors\u001b[49m\u001b[38;5;241;43m=\u001b[39;49m\u001b[43merrors\u001b[49m\u001b[43m,\u001b[49m\n\u001b[1;32m   5266\u001b[0m \u001b[43m    \u001b[49m\u001b[43m)\u001b[49m\n",
      "File \u001b[0;32m~/anaconda3/envs/data1030/lib/python3.11/site-packages/pandas/core/generic.py:4549\u001b[0m, in \u001b[0;36mNDFrame.drop\u001b[0;34m(self, labels, axis, index, columns, level, inplace, errors)\u001b[0m\n\u001b[1;32m   4547\u001b[0m \u001b[38;5;28;01mfor\u001b[39;00m axis, labels \u001b[38;5;129;01min\u001b[39;00m axes\u001b[38;5;241m.\u001b[39mitems():\n\u001b[1;32m   4548\u001b[0m     \u001b[38;5;28;01mif\u001b[39;00m labels \u001b[38;5;129;01mis\u001b[39;00m \u001b[38;5;129;01mnot\u001b[39;00m \u001b[38;5;28;01mNone\u001b[39;00m:\n\u001b[0;32m-> 4549\u001b[0m         obj \u001b[38;5;241m=\u001b[39m \u001b[43mobj\u001b[49m\u001b[38;5;241;43m.\u001b[39;49m\u001b[43m_drop_axis\u001b[49m\u001b[43m(\u001b[49m\u001b[43mlabels\u001b[49m\u001b[43m,\u001b[49m\u001b[43m \u001b[49m\u001b[43maxis\u001b[49m\u001b[43m,\u001b[49m\u001b[43m \u001b[49m\u001b[43mlevel\u001b[49m\u001b[38;5;241;43m=\u001b[39;49m\u001b[43mlevel\u001b[49m\u001b[43m,\u001b[49m\u001b[43m \u001b[49m\u001b[43merrors\u001b[49m\u001b[38;5;241;43m=\u001b[39;49m\u001b[43merrors\u001b[49m\u001b[43m)\u001b[49m\n\u001b[1;32m   4551\u001b[0m \u001b[38;5;28;01mif\u001b[39;00m inplace:\n\u001b[1;32m   4552\u001b[0m     \u001b[38;5;28mself\u001b[39m\u001b[38;5;241m.\u001b[39m_update_inplace(obj)\n",
      "File \u001b[0;32m~/anaconda3/envs/data1030/lib/python3.11/site-packages/pandas/core/generic.py:4591\u001b[0m, in \u001b[0;36mNDFrame._drop_axis\u001b[0;34m(self, labels, axis, level, errors, only_slice)\u001b[0m\n\u001b[1;32m   4589\u001b[0m         new_axis \u001b[38;5;241m=\u001b[39m axis\u001b[38;5;241m.\u001b[39mdrop(labels, level\u001b[38;5;241m=\u001b[39mlevel, errors\u001b[38;5;241m=\u001b[39merrors)\n\u001b[1;32m   4590\u001b[0m     \u001b[38;5;28;01melse\u001b[39;00m:\n\u001b[0;32m-> 4591\u001b[0m         new_axis \u001b[38;5;241m=\u001b[39m \u001b[43maxis\u001b[49m\u001b[38;5;241;43m.\u001b[39;49m\u001b[43mdrop\u001b[49m\u001b[43m(\u001b[49m\u001b[43mlabels\u001b[49m\u001b[43m,\u001b[49m\u001b[43m \u001b[49m\u001b[43merrors\u001b[49m\u001b[38;5;241;43m=\u001b[39;49m\u001b[43merrors\u001b[49m\u001b[43m)\u001b[49m\n\u001b[1;32m   4592\u001b[0m     indexer \u001b[38;5;241m=\u001b[39m axis\u001b[38;5;241m.\u001b[39mget_indexer(new_axis)\n\u001b[1;32m   4594\u001b[0m \u001b[38;5;66;03m# Case for non-unique axis\u001b[39;00m\n\u001b[1;32m   4595\u001b[0m \u001b[38;5;28;01melse\u001b[39;00m:\n",
      "File \u001b[0;32m~/anaconda3/envs/data1030/lib/python3.11/site-packages/pandas/core/indexes/base.py:6699\u001b[0m, in \u001b[0;36mIndex.drop\u001b[0;34m(self, labels, errors)\u001b[0m\n\u001b[1;32m   6697\u001b[0m \u001b[38;5;28;01mif\u001b[39;00m mask\u001b[38;5;241m.\u001b[39many():\n\u001b[1;32m   6698\u001b[0m     \u001b[38;5;28;01mif\u001b[39;00m errors \u001b[38;5;241m!=\u001b[39m \u001b[38;5;124m\"\u001b[39m\u001b[38;5;124mignore\u001b[39m\u001b[38;5;124m\"\u001b[39m:\n\u001b[0;32m-> 6699\u001b[0m         \u001b[38;5;28;01mraise\u001b[39;00m \u001b[38;5;167;01mKeyError\u001b[39;00m(\u001b[38;5;124mf\u001b[39m\u001b[38;5;124m\"\u001b[39m\u001b[38;5;132;01m{\u001b[39;00m\u001b[38;5;28mlist\u001b[39m(labels[mask])\u001b[38;5;132;01m}\u001b[39;00m\u001b[38;5;124m not found in axis\u001b[39m\u001b[38;5;124m\"\u001b[39m)\n\u001b[1;32m   6700\u001b[0m     indexer \u001b[38;5;241m=\u001b[39m indexer[\u001b[38;5;241m~\u001b[39mmask]\n\u001b[1;32m   6701\u001b[0m \u001b[38;5;28;01mreturn\u001b[39;00m \u001b[38;5;28mself\u001b[39m\u001b[38;5;241m.\u001b[39mdelete(indexer)\n",
      "\u001b[0;31mKeyError\u001b[0m: \"['DEPARTURE_TIME', 'DEPARTURE_DELAY', 'TAXI_OUT', 'WHEELS_OFF', 'ELAPSED_TIME', 'AIR_TIME', 'WHEELS_ON', 'TAXI_IN', 'ARRIVAL_TIME', 'AIR_SYSTEM_DELAY', 'SECURITY_DELAY', 'AIRLINE_DELAY', 'LATE_AIRCRAFT_DELAY', 'WEATHER_DELAY', 'TAIL_NUMBER'] not found in axis\""
     ]
    }
   ],
   "source": [
    "# We also need to remove features we will not have access to ahead of the day of departure\n",
    "df = df.drop(['DEPARTURE_TIME', 'DEPARTURE_DELAY', 'TAXI_OUT', 'WHEELS_OFF', 'ELAPSED_TIME', 'AIR_TIME', 'WHEELS_ON', 'TAXI_IN', 'ARRIVAL_TIME',\n",
    "             'AIR_SYSTEM_DELAY', 'SECURITY_DELAY', 'AIRLINE_DELAY', 'LATE_AIRCRAFT_DELAY', 'WEATHER_DELAY', 'TAIL_NUMBER'], axis=1)"
   ]
  },
  {
   "cell_type": "code",
   "execution_count": 161,
   "id": "d12308d7-ab4d-4bb4-9e9d-543cdf435f4c",
   "metadata": {},
   "outputs": [],
   "source": [
    "# Split in X and y\n",
    "y = df['ARRIVAL_DELAY']\n",
    "X = df.drop(['ARRIVAL_DELAY'], axis=1)"
   ]
  },
  {
   "cell_type": "code",
   "execution_count": 162,
   "id": "24cdacbb-94c1-4685-8075-e72d9fdbf74e",
   "metadata": {},
   "outputs": [],
   "source": [
    "# Convert times in hours. Previously they were on 60 minute scale, so preprocessing would not work\n",
    "X['SCHEDULED_DEPARTURE'] = X['SCHEDULED_DEPARTURE']/60\n",
    "X['SCHEDULED_ARRIVAL'] = X['SCHEDULED_ARRIVAL']/60"
   ]
  },
  {
   "cell_type": "code",
   "execution_count": 140,
   "id": "9512bfea-1dfc-461d-85d9-bd25869c57db",
   "metadata": {},
   "outputs": [],
   "source": [
    "\n",
    "# tscv = TimeSeriesSplit()\n",
    "# for train_index, test_index in tscv.split(X):\n",
    "#     print('TRAIN:', train_index, 'TEST:', test_index) \n",
    "#     # X_train, X_test = X[train_index], X[test_index]\n",
    "#     # y_train, y_test = y[train_index], y[test_index]"
   ]
  },
  {
   "cell_type": "code",
   "execution_count": 5,
   "id": "639ab6c9-cacf-44bd-8b9e-0c48110a48d0",
   "metadata": {},
   "outputs": [],
   "source": [
    "# ML pipeline cell. Split data using time series split, no test data. \n",
    "from sklearn.model_selection import TimeSeriesSplit\n",
    "from sklearn.pipeline import make_pipeline\n",
    "\n",
    "def MLpipe_TSS_MSE(X, y, preprocessor, ML_algo, param_grid):\n",
    "\n",
    "    random_states = 1\n",
    "    n_splits = 5\n",
    "    refit = True\n",
    "    final_models = []\n",
    "    test_scores = []\n",
    "    for i in range(random_states):\n",
    "        tscv = TimeSeriesSplit(n_splits=n_splits)\n",
    "        pipe = make_pipeline(preprocessor, ML_algo)\n",
    "        grid = GridSearchCV(pipe, param_grid = param_grid, scoring='neg_mean_squared_error', cv=tscv, return_train_score = True,\n",
    "                            n_jobs = -1, verbose=False, refit=refit).fit(X, y)\n",
    "        \n",
    "        print(f'Model: {ML_algo} best params are: {grid.best_params_}')\n",
    "        print(grid.score(X, y))\n"
   ]
  },
  {
   "cell_type": "code",
   "execution_count": 63,
   "id": "53bae496-e16d-430e-89d7-6b3504008f22",
   "metadata": {},
   "outputs": [],
   "source": [
    "from sklearn.metrics import mean_squared_error\n",
    "# ML Pipeline where one month worth of data is taken out as test data\n",
    "def MLpipe_TSS_MSE_TEST(X, y, preprocessor, ML_algo, param_grid):\n",
    "    random_states = 1\n",
    "    n_splits = 5\n",
    "    test_scores = []\n",
    "    splits = [0.5, 0.55, 0.60, 0.65, 0.70, 0.75, 0.80, 0.85, 0.90]\n",
    "    diff = 0.05\n",
    "    scores = []\n",
    "    true = []\n",
    "    pred = []\n",
    "    \n",
    "    for i in splits:\n",
    "        start = int(X.shape[0]*i)\n",
    "        end = int(X.shape[0]*(i+diff))\n",
    "        X_other = X[0: start]\n",
    "        X_test = X[start:end]\n",
    "        y_other = y[0:start]\n",
    "        y_test = y[start:end]\n",
    "        \n",
    "        tscv = TimeSeriesSplit(n_splits=n_splits)\n",
    "        pipe = make_pipeline(preprocessor, ML_algo)\n",
    "        grid = GridSearchCV(pipe, param_grid = param_grid, scoring='neg_mean_squared_error', cv=tscv, return_train_score = True,\n",
    "                            n_jobs = -1, verbose=False)\n",
    "        grid.fit(X_other, y_other)\n",
    "        y_pred = grid.predict(X_test)\n",
    "        score = mean_squared_error(y_test, y_pred)\n",
    "        scores.append(score)\n",
    "        true.append(y_test)\n",
    "        pred.append(y_pred)\n",
    "    return scores, true, pred, grid.best_params_"
   ]
  },
  {
   "cell_type": "code",
   "execution_count": 55,
   "id": "e8c27ae1-63ec-41ae-b38d-c5e7fba32a70",
   "metadata": {},
   "outputs": [],
   "source": [
    "# Cell to encode data use onehot, minmax, and standard\n",
    "from sklearn.compose import ColumnTransformer\n",
    "from sklearn.pipeline import Pipeline\n",
    "from sklearn.preprocessing import StandardScaler, OneHotEncoder, OrdinalEncoder, MinMaxScaler\n",
    "\n",
    "\n",
    "onehot_ftrs = ['AIRLINE', 'DESTINATION_AIRPORT'] # 'DESTINATION_AIRPORT'\n",
    "minmax_ftrs = ['SCHEDULED_DEPARTURE', 'SCHEDULED_ARRIVAL', 'SCHEDULED_TIME', 'MONTH', 'DAY', 'DAY_OF_WEEK'] # 'MONTH', 'DAY', 'DAY_OF_WEEK', \n",
    "std_ftrs = ['DISTANCE', 'FLIGHT_NUMBER']#, 'FLIGHT_NUMBER']\n",
    "\n",
    "# collect all the encoders\n",
    "preprocessor = ColumnTransformer(\n",
    "    transformers=[\n",
    "        ('onehot', OneHotEncoder(handle_unknown='ignore'), onehot_ftrs),\n",
    "        ('minmax', MinMaxScaler(), minmax_ftrs),\n",
    "        ('std', StandardScaler(), std_ftrs)])"
   ]
  },
  {
   "cell_type": "code",
   "execution_count": 8,
   "id": "27c3adf3-af12-434e-b14e-1258a52a6083",
   "metadata": {},
   "outputs": [
    {
     "name": "stdout",
     "output_type": "stream",
     "text": [
      "Linear Regression w/ l1\n",
      "[1466.3037606607081, 1370.956116327128, 1487.7491996673537, 2010.9873547015106, 1200.9935439536494, 1074.0572278993736, 811.0707178311113, 1074.6859924644048, 906.3632827139562]\n"
     ]
    }
   ],
   "source": [
    "# test your function with a linear regression model (l1 regularization)\n",
    "from sklearn.linear_model import Lasso\n",
    "from sklearn.model_selection import ParameterGrid\n",
    "from sklearn.model_selection import GridSearchCV\n",
    "\n",
    "param_grid = {\n",
    "    'lasso__alpha': np.logspace(-2, 2, 21)  # we use logspace since values can go up to inf\n",
    "}\n",
    "print(\"Linear Regression w/ l1\")\n",
    "# MLpipe_TSS_MSE(X, y, preprocessor, Lasso(), param_grid)\n",
    "l1_scores, l1_true, l1_pred, l1_params = MLpipe_TSS_MSE_TEST(X, y, preprocessor, Lasso(max_iter=10000), param_grid)\n",
    "print(l1_scores)"
   ]
  },
  {
   "cell_type": "code",
   "execution_count": 163,
   "id": "c0f35d9b-a9d5-4536-a617-b3e317280811",
   "metadata": {},
   "outputs": [
    {
     "name": "stdout",
     "output_type": "stream",
     "text": [
      "Linear Regression w/ l2\n",
      "[1508.1159506985618, 1327.505729318514, 1420.9281730901673, 1993.9270164926422, 1133.5637862651208, 1003.3508786234969, 741.0431359987293, 963.2194288746774, 772.6158265805223]\n"
     ]
    }
   ],
   "source": [
    "# For ridge regurlization, I went up to 100 since I saw that alpha can be any value from 0 - inf\n",
    "from sklearn.linear_model import Ridge\n",
    "param_grid = {\n",
    "    'ridge__alpha': np.logspace(-2, 2, 21) # we use logspace since values can go up to inf\n",
    "}\n",
    "print(\"Linear Regression w/ l2\")\n",
    "# MLpipe_TSS_MSE(X, y, preprocessor, Ridge(), param_grid)\n",
    "l2_scores, l2_true, l2_pred, l2_params = MLpipe_TSS_MSE_TEST(X, y, preprocessor, Ridge(), param_grid)\n",
    "print(l2_scores)"
   ]
  },
  {
   "cell_type": "code",
   "execution_count": 79,
   "id": "d6262c16-9127-4be7-8efe-3ee5258172bb",
   "metadata": {},
   "outputs": [
    {
     "name": "stdout",
     "output_type": "stream",
     "text": [
      "0.5468896069737479\n",
      "8.091412213740458\n"
     ]
    }
   ],
   "source": [
    "print(np.mean(l2_pred[0]))\n",
    "print(np.mean(l2_true[0]))"
   ]
  },
  {
   "cell_type": "code",
   "execution_count": 10,
   "id": "ea1de0a0-8c5f-425f-80d3-67b060fa224e",
   "metadata": {},
   "outputs": [
    {
     "name": "stdout",
     "output_type": "stream",
     "text": [
      "Linear Regression w/ Elastic Net\n",
      "[1476.2081253805507, 1359.2767687510066, 1480.128342190481, 2029.0368511345694, 1200.9935439536494, 1074.0572278993736, 811.0707178311113, 1074.6859924644048, 887.1980774092495]\n"
     ]
    }
   ],
   "source": [
    "from sklearn.linear_model import ElasticNet\n",
    "param_grid = {\n",
    "    'elasticnet__alpha': 1/np.logspace(-2, 2, 5),\n",
    "    'elasticnet__l1_ratio': [0.1, 0.2, 0.3, 0.4, 0.5, 0.6, 0.7, 0.8, 0.9, 1]\n",
    "}\n",
    "print(\"Linear Regression w/ Elastic Net\")\n",
    "# MLpipe_TSS_MSE(X, y, preprocessor, ElasticNet(max_iter=10000), param_grid)\n",
    "en_scores, en_true, en_spred, en_params = MLpipe_TSS_MSE_TEST(X, y, preprocessor, ElasticNet(max_iter=5000), param_grid)\n",
    "print(en_scores)"
   ]
  },
  {
   "cell_type": "code",
   "execution_count": 11,
   "id": "2502a031-a887-45e5-8c63-218814ddf220",
   "metadata": {},
   "outputs": [
    {
     "name": "stdout",
     "output_type": "stream",
     "text": [
      "RF\n",
      "[1475.366600034477, 1357.2500367750863, 1425.4978818964594, 2004.5191806185703, 1174.8349596994963, 1057.5267586099887, 798.5341457402104, 1003.9093755515221, 838.8145204749436]\n"
     ]
    }
   ],
   "source": [
    "from sklearn.ensemble import RandomForestRegressor\n",
    "param_grid = {\n",
    "        'randomforestregressor__max_depth': [1, 2, 3, 4, 5, 6, 7, 8, 9], # the max_depth should be smaller or equal than the number of features roughly\n",
    "        'randomforestregressor__max_features': [0.5,0.75,1.0] # linearly spaced between 0.5 and 1\n",
    "} \n",
    "print(\"RF\")\n",
    "# MLpipe_TSS_MSE(X, y, preprocessor, RandomForestRegressor(), param_grid)\n",
    "rf_scores, rf_true, rf_pred, rf_params = MLpipe_TSS_MSE_TEST(X, y, preprocessor, RandomForestRegressor(), param_grid)\n",
    "print(rf_scores)"
   ]
  },
  {
   "cell_type": "code",
   "execution_count": 12,
   "id": "1f55ac74-cb89-4161-a1f4-1b7e9c6bd689",
   "metadata": {},
   "outputs": [
    {
     "name": "stdout",
     "output_type": "stream",
     "text": [
      "MLP\n",
      "[1508.106413511863, 1296.766117968093, 1487.628166107251, 1988.078933484317, 1200.3137232737647, 1077.7731340993134, 809.2328045677059, 977.0833251939873, 779.3440974397217]\n"
     ]
    }
   ],
   "source": [
    "from sklearn.neural_network import MLPRegressor\n",
    "param_grid = {\n",
    "    'mlpregressor__hidden_layer_sizes': [[10,5,1], [10, 10, 10], [10], [5, 5, 5]],\n",
    "}\n",
    "print(\"MLP\")\n",
    "mlp_scores, mlp_true, mlp_pred, mlp_params = MLpipe_TSS_MSE_TEST(X, y, preprocessor, MLPRegressor(learning_rate_init = 0.01, max_iter = 5000, shuffle=False, batch_size = 512), param_grid)\n",
    "print(mlp_scores)"
   ]
  },
  {
   "cell_type": "code",
   "execution_count": 164,
   "id": "a797a61a-6cfc-4e84-8867-66fb886e7a71",
   "metadata": {},
   "outputs": [
    {
     "name": "stdout",
     "output_type": "stream",
     "text": [
      "[1488.816643807179, 1417.3591356855661, 1486.9588893056932, 2088.4328850300103, 1117.9812013078015, 993.76852383311, 727.0089321353651, 984.0363854087758, 784.5579292800537]\n"
     ]
    }
   ],
   "source": [
    "test_scores = []\n",
    "splits = [0.5, 0.55, 0.60, 0.65, 0.70, 0.75, 0.80, 0.85, 0.90]\n",
    "diff = 0.05\n",
    "baseline_scores = []\n",
    "    \n",
    "for i in splits:\n",
    "    start = int(X.shape[0]*i)\n",
    "    end = int(X.shape[0]*(i+diff))\n",
    "    y_test = y[start:end]\n",
    "    y_baseline = [np.mean(y_test)] * len(y_test)\n",
    "    baseline_scores.append(mean_squared_error(y_test, y_baseline))\n",
    "print(baseline_scores)"
   ]
  },
  {
   "cell_type": "code",
   "execution_count": 65,
   "id": "55382fd6-b9a3-412c-a10c-ccb45ed429b9",
   "metadata": {},
   "outputs": [
    {
     "name": "stdout",
     "output_type": "stream",
     "text": [
      "RF: 1237.3614954889727 355.45042358098425\n",
      "L1: 1267.0185773576882 344.6858551029958\n",
      "L2: 1207.1411028824923 377.4640348006282\n",
      "EN: 1265.8506274460442 351.0435963390138\n",
      "MLP: 1236.0363017384464 363.7285028467872\n",
      "Baseline: 1232.1022806437281 406.2367792706289\n"
     ]
    }
   ],
   "source": [
    "print('RF:', np.mean(rf_scores), np.std(rf_scores))\n",
    "print('L1:', np.mean(l1_scores), np.std(l1_scores))\n",
    "print('L2:', np.mean(l2_scores), np.std(l2_scores))\n",
    "print('EN:', np.mean(en_scores), np.std(en_scores))\n",
    "print('MLP:', np.mean(mlp_scores), np.std(mlp_scores))\n",
    "print('Baseline:', np.mean(baseline_scores), np.std(baseline_scores))"
   ]
  },
  {
   "cell_type": "code",
   "execution_count": 166,
   "id": "561ec2e6-ce27-4095-9b5a-58a476b464da",
   "metadata": {},
   "outputs": [
    {
     "data": {
      "image/png": "[encoded data removed]",
      "text/plain": [
       "<Figure size 640x480 with 1 Axes>"
      ]
     },
     "metadata": {},
     "output_type": "display_data"
    },
    {
     "data": {
      "text/plain": [
       "<Figure size 640x480 with 0 Axes>"
      ]
     },
     "metadata": {},
     "output_type": "display_data"
    }
   ],
   "source": [
    "y = ['RF', 'L1', 'L2', 'EN', 'MLP', 'Baseline']\n",
    "x = [np.mean(rf_scores), np.mean(l1_scores), np.mean(l2_scores), np.mean(en_scores), np.mean(mlp_scores), np.mean(baseline_scores)]\n",
    "x_err = [np.std(rf_scores), np.std(l1_scores), np.std(l2_scores), np.std(en_scores), np.std(mlp_scores), np.std(baseline_scores)]\n",
    "plt.errorbar(x, y, xerr = x_err, fmt='o')\n",
    "plt.show()\n",
    "plt.savefig('RMSE_Mean_Std', dpi=300)"
   ]
  },
  {
   "cell_type": "code",
   "execution_count": 83,
   "id": "9792d124-8432-4297-b2ec-5de6e3b70ac0",
   "metadata": {},
   "outputs": [
    {
     "data": {
      "text/plain": [
       "<ErrorbarContainer object of 3 artists>"
      ]
     },
     "execution_count": 83,
     "metadata": {},
     "output_type": "execute_result"
    },
    {
     "data": {
      "image/png": "[encoded data removed]",
      "text/plain": [
       "<Figure size 640x480 with 1 Axes>"
      ]
     },
     "metadata": {},
     "output_type": "display_data"
    }
   ],
   "source": [
    "y_labels = ['RF', 'L1', 'L2', 'EN', 'MLP', 'Baseline']\n",
    "\n",
    "x = [np.mean(np.sqrt(rf_scores)), np.mean(np.sqrt(l1_scores)), np.mean(np.sqrt(l2_scores)), np.mean(np.sqrt(en_scores)), np.mean(np.sqrt(mlp_scores)), np.mean(np.sqrt(baseline_scores))]\n",
    "x_err = [np.std(np.sqrt(rf_scores)), np.std(np.sqrt(l1_scores)), np.std(np.sqrt(l2_scores)), np.std(np.sqrt(en_scores)), np.std(np.sqrt(mlp_scores)), np.std(np.sqrt(baseline_scores))]\n",
    "plt.errorbar(x, y_labels, xerr = x_err, fmt='o')"
   ]
  },
  {
   "cell_type": "code",
   "execution_count": 84,
   "id": "1d90780f-5e83-4dcd-a8b5-c357de83452e",
   "metadata": {},
   "outputs": [
    {
     "data": {
      "image/png": "[encoded data removed]",
      "text/plain": [
       "<Figure size 640x480 with 1 Axes>"
      ]
     },
     "metadata": {},
     "output_type": "display_data"
    }
   ],
   "source": [
    "x = ['RF', 'L1', 'L2', 'EN', 'MLP', 'Baseline']\n",
    "y_labels = [np.sqrt(rf_scores), np.sqrt(l1_scores), np.sqrt(l2_scores), np.sqrt(en_scores), np.sqrt(mlp_scores), np.sqrt(baseline_scores)]\n",
    "plt.boxplot(y_labels, labels=x)\n",
    "plt.show()"
   ]
  },
  {
   "cell_type": "code",
   "execution_count": 106,
   "id": "a456a79a-7849-4ab0-9f2c-9f08f255e190",
   "metadata": {},
   "outputs": [],
   "source": [
    "y_classifier = []\n",
    "for i in y:\n",
    "    if (i >= 15):\n",
    "        y_classifier.append(1)\n",
    "    else:\n",
    "        y_classifier.append(0)"
   ]
  },
  {
   "cell_type": "code",
   "execution_count": 143,
   "id": "15f9ec50-3b06-4d4b-ba58-587c1a97f796",
   "metadata": {},
   "outputs": [],
   "source": [
    "from sklearn.metrics import accuracy_score\n",
    "# ML Pipeline where one month worth of data is taken out as test data\n",
    "def MLpipe_TSS_Classifier(X, y, preprocessor, ML_algo, param_grid):\n",
    "    random_states = 1\n",
    "    n_splits = 5\n",
    "    test_scores = []\n",
    "    splits = [0.5, 0.55, 0.60, 0.65, 0.70, 0.75, 0.80, 0.85, 0.90]\n",
    "    diff = 0.05\n",
    "    scores = []\n",
    "    true = []\n",
    "    pred = []\n",
    "    \n",
    "    for i in splits:\n",
    "        start = int(X.shape[0]*i)\n",
    "        end = int(X.shape[0]*(i+diff))\n",
    "        X_other = X[0: start]\n",
    "        X_test = X[start:end]\n",
    "        y_other = y[0:start]\n",
    "        y_test = y[start:end]\n",
    "        \n",
    "        tscv = TimeSeriesSplit(n_splits=n_splits)\n",
    "        pipe = make_pipeline(preprocessor, ML_algo)\n",
    "        grid = GridSearchCV(pipe, param_grid = param_grid, scoring='accuracy', cv=tscv, return_train_score = True,\n",
    "                            n_jobs = -1, verbose=False)\n",
    "        grid.fit(X_other, y_other)\n",
    "        y_pred = grid.predict(X_test)\n",
    "        score = accuracy_score(y_test, y_pred)\n",
    "        scores.append(score)\n",
    "        true.append(y_test)\n",
    "        pred.append(y_pred)\n",
    "    return scores, true, pred, grid.best_params_"
   ]
  },
  {
   "cell_type": "code",
   "execution_count": 156,
   "id": "e53c747e-598d-4d96-9d29-7082b7c3fa0f",
   "metadata": {},
   "outputs": [
    {
     "name": "stdout",
     "output_type": "stream",
     "text": [
      "XGB Classifier\n",
      "[0.7377862595419847, 0.7568702290076336, 0.7904580152671755, 0.7954198473282442, 0.8112955542835337, 0.874236641221374, 0.8778625954198473, 0.8704198473282443, 0.8732824427480916]\n"
     ]
    }
   ],
   "source": [
    "import xgboost as xgb\n",
    "param_grid = {\n",
    "    'xgbclassifier__n_estimators': [550, 600, 650],\n",
    "    'xgbclassifier__max_depth': [2],\n",
    "}\n",
    "print(\"XGB Classifier\")\n",
    "xgb_scores, xgb_true, xgb_pred, xgb_params = MLpipe_TSS_Classifier(X, y_classifier, preprocessor, xgb.XGBClassifier(), param_grid)\n",
    "print(xgb_scores)"
   ]
  },
  {
   "cell_type": "code",
   "execution_count": 157,
   "id": "f5837c72-8485-40e1-b52b-d9759503bf9c",
   "metadata": {},
   "outputs": [
    {
     "name": "stdout",
     "output_type": "stream",
     "text": [
      "{'xgbclassifier__max_depth': 2, 'xgbclassifier__n_estimators': 550}\n"
     ]
    }
   ],
   "source": [
    "print(xgb_params)"
   ]
  },
  {
   "cell_type": "code",
   "execution_count": 127,
   "id": "7f745442-b870-434e-a26c-3204e8237f3d",
   "metadata": {},
   "outputs": [],
   "source": [
    "# Calculate the baseliene accuracy\n",
    "from collections import Counter\n",
    "splits = [0.5, 0.55, 0.60, 0.65, 0.70, 0.75, 0.80, 0.85, 0.90]\n",
    "diff = 0.05\n",
    "baseline_scores_class = []\n",
    "    \n",
    "for i in splits:\n",
    "    start = int(X.shape[0]*i)\n",
    "    end = int(X.shape[0]*(i+diff))\n",
    "    y_true = y_classifier[start:end]\n",
    "    c = Counter(y_true)\n",
    "    baseline_scores_class.append(c[0]/len(y_true))\n"
   ]
  },
  {
   "cell_type": "code",
   "execution_count": 158,
   "id": "18face0d-7656-41cd-a147-ef0cdb39ce7b",
   "metadata": {},
   "outputs": [
    {
     "name": "stdout",
     "output_type": "stream",
     "text": [
      "XGB Classifier: 0.8208479369051255\n",
      "Baseline: 0.8332937121174973\n"
     ]
    }
   ],
   "source": [
    "print(\"XGB Classifier:\", np.mean(xgb_scores))\n",
    "print(\"Baseline:\", np.mean(baseline_scores_class))"
   ]
  },
  {
   "cell_type": "code",
   "execution_count": null,
   "id": "4d61f7df-85cd-4888-b04a-05cef76e79ff",
   "metadata": {},
   "outputs": [],
   "source": []
  }
 ],
 "metadata": {
  "kernelspec": {
   "display_name": "Python 3 (ipykernel)",
   "language": "python",
   "name": "python3"
  },
  "language_info": {
   "codemirror_mode": {
    "name": "ipython",
    "version": 3
   },
   "file_extension": ".py",
   "mimetype": "text/x-python",
   "name": "python",
   "nbconvert_exporter": "python",
   "pygments_lexer": "ipython3",
   "version": "3.11.4"
  }
 },
 "nbformat": 4,
 "nbformat_minor": 5
}
