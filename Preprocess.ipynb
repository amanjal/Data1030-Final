{
 "cells": [
  {
   "cell_type": "code",
   "execution_count": 1,
   "id": "d8b5aa56-e7c1-491b-8da8-12ecedbcd1eb",
   "metadata": {},
   "outputs": [
    {
     "name": "stdout",
     "output_type": "stream",
     "text": [
      "starting\n"
     ]
    },
    {
     "name": "stderr",
     "output_type": "stream",
     "text": [
      "/var/folders/6t/hqt0dlv94t756tpd5mb94c4m0000gn/T/ipykernel_94855/1463391467.py:7: DtypeWarning: Columns (7,8) have mixed types. Specify dtype option on import or set low_memory=False.\n",
      "  df_total = pd.read_csv('Data/Flights.csv')\n"
     ]
    },
    {
     "name": "stdout",
     "output_type": "stream",
     "text": [
      "DONE\n",
      "(104804, 26)\n"
     ]
    }
   ],
   "source": [
    "# Cell to load dataset, only run once since dataset is very very large\n",
    "import pandas as pd \n",
    "import matplotlib.pyplot as plt\n",
    "import numpy as np\n",
    "\n",
    "print(\"starting\")\n",
    "df_total = pd.read_csv('Data/Flights.csv')\n",
    "df_temp1 = df_total[df_total['ORIGIN_AIRPORT'] == 'BOS']\n",
    "df_temp2 = df_temp1[df_temp1['CANCELLED'] == 0]\n",
    "df = df_temp2[df_temp2['DIVERTED'] == 0]\n",
    "print(\"DONE\")\n",
    "# Our prediction task is estimating delay so we do not care about cancellation. In addition, all data from year\n",
    "# and origin airport is the same so we remove it\n",
    "df = df.drop(['CANCELLED', 'DIVERTED', 'CANCELLATION_REASON', 'YEAR', 'ORIGIN_AIRPORT'], axis = 1)\n",
    "print(df.shape)"
   ]
  },
  {
   "cell_type": "code",
   "execution_count": 47,
   "id": "bb4d87e5-cf08-4107-87fb-8ad515902e50",
   "metadata": {},
   "outputs": [
    {
     "name": "stdout",
     "output_type": "stream",
     "text": [
      "Index(['MONTH', 'DAY', 'DAY_OF_WEEK', 'AIRLINE', 'FLIGHT_NUMBER',\n",
      "       'TAIL_NUMBER', 'DESTINATION_AIRPORT', 'SCHEDULED_DEPARTURE',\n",
      "       'DEPARTURE_TIME', 'DEPARTURE_DELAY', 'TAXI_OUT', 'WHEELS_OFF',\n",
      "       'SCHEDULED_TIME', 'ELAPSED_TIME', 'AIR_TIME', 'DISTANCE', 'WHEELS_ON',\n",
      "       'TAXI_IN', 'SCHEDULED_ARRIVAL', 'ARRIVAL_TIME', 'ARRIVAL_DELAY',\n",
      "       'AIR_SYSTEM_DELAY', 'SECURITY_DELAY', 'AIRLINE_DELAY',\n",
      "       'LATE_AIRCRAFT_DELAY', 'WEATHER_DELAY'],\n",
      "      dtype='object')\n",
      "MONTH                    int64\n",
      "DAY                      int64\n",
      "DAY_OF_WEEK              int64\n",
      "AIRLINE                 object\n",
      "FLIGHT_NUMBER            int64\n",
      "TAIL_NUMBER             object\n",
      "DESTINATION_AIRPORT     object\n",
      "SCHEDULED_DEPARTURE      int64\n",
      "DEPARTURE_TIME         float64\n",
      "DEPARTURE_DELAY        float64\n",
      "TAXI_OUT               float64\n",
      "WHEELS_OFF             float64\n",
      "SCHEDULED_TIME         float64\n",
      "ELAPSED_TIME           float64\n",
      "AIR_TIME               float64\n",
      "DISTANCE                 int64\n",
      "WHEELS_ON              float64\n",
      "TAXI_IN                float64\n",
      "SCHEDULED_ARRIVAL        int64\n",
      "ARRIVAL_TIME           float64\n",
      "ARRIVAL_DELAY          float64\n",
      "AIR_SYSTEM_DELAY       float64\n",
      "SECURITY_DELAY         float64\n",
      "AIRLINE_DELAY          float64\n",
      "LATE_AIRCRAFT_DELAY    float64\n",
      "WEATHER_DELAY          float64\n",
      "dtype: object\n"
     ]
    }
   ],
   "source": [
    "# Print columns and types\n",
    "print(df.columns)\n",
    "print(df.dtypes)"
   ]
  },
  {
   "cell_type": "code",
   "execution_count": 50,
   "id": "639ab6c9-cacf-44bd-8b9e-0c48110a48d0",
   "metadata": {},
   "outputs": [
    {
     "name": "stdout",
     "output_type": "stream",
     "text": [
      "Index(['MONTH', 'DAY', 'DAY_OF_WEEK', 'AIRLINE', 'DESTINATION_AIRPORT',\n",
      "       'SCHEDULED_DEPARTURE', 'DEPARTURE_TIME', 'DEPARTURE_DELAY', 'TAXI_OUT',\n",
      "       'WHEELS_OFF', 'SCHEDULED_TIME', 'ELAPSED_TIME', 'AIR_TIME', 'DISTANCE',\n",
      "       'WHEELS_ON', 'TAXI_IN', 'SCHEDULED_ARRIVAL', 'ARRIVAL_TIME',\n",
      "       'AIR_SYSTEM_DELAY', 'SECURITY_DELAY', 'AIRLINE_DELAY',\n",
      "       'LATE_AIRCRAFT_DELAY', 'WEATHER_DELAY'],\n",
      "      dtype='object')\n",
      "(22254, 23) (61913, 23) (20637, 23)\n"
     ]
    }
   ],
   "source": [
    "# Cell to split the data into 80, 20, 20 for train, test, split\n",
    "from sklearn.model_selection import GroupShuffleSplit\n",
    "from sklearn.model_selection import GroupKFold\n",
    "groups = df['TAIL_NUMBER']\n",
    "\n",
    "y = df['ARRIVAL_DELAY']\n",
    "X = df.drop(columns=['ARRIVAL_DELAY', 'TAIL_NUMBER', 'FLIGHT_NUMBER'])\n",
    "print(X.columns)\n",
    "\n",
    "\n",
    "gss = GroupShuffleSplit(n_splits=1, train_size=.8, random_state=0)\n",
    "for i_other, i_test in gss.split(X, y, groups):\n",
    "    X_other, y_other, groups_other = X.iloc[i_other], y.iloc[i_other], groups.iloc[i_other]\n",
    "    X_test, y_test, groups_test = X.iloc[i_test], y.iloc[i_test], groups.iloc[i_test]\n",
    "groups_kfold = GroupKFold(n_splits=4)\n",
    "for train_index, val_index in groups_kfold.split(X_other, y_other, groups_other):\n",
    "    X_train, y_train = X_other.iloc[train_index], y_other.iloc[train_index]\n",
    "    X_val, y_val = X_other.iloc[val_index], y.iloc[val_index]\n",
    "\n",
    "print(X_test.shape, X_train.shape, X_val.shape)\n"
   ]
  },
  {
   "cell_type": "code",
   "execution_count": 48,
   "id": "e8c27ae1-63ec-41ae-b38d-c5e7fba32a70",
   "metadata": {},
   "outputs": [
    {
     "name": "stderr",
     "output_type": "stream",
     "text": [
      "/Users/anoopmanjal/anaconda3/envs/data1030/lib/python3.11/site-packages/sklearn/preprocessing/_encoders.py:972: FutureWarning: `sparse` was renamed to `sparse_output` in version 1.2 and will be removed in 1.4. `sparse_output` is ignored unless you leave `sparse` to its default value.\n",
      "  warnings.warn(\n"
     ]
    }
   ],
   "source": [
    "# Cell to encode data use onehot, minmax, and standard\n",
    "from sklearn.compose import ColumnTransformer\n",
    "from sklearn.pipeline import Pipeline\n",
    "from sklearn.preprocessing import StandardScaler, OneHotEncoder, OrdinalEncoder, MinMaxScaler\n",
    "\n",
    "\n",
    "onehot_ftrs = ['DESTINATION_AIRPORT', 'AIRLINE']\n",
    "minmax_ftrs = ['MONTH', 'DAY', 'DAY_OF_WEEK', 'SCHEDULED_DEPARTURE', 'SCHEDULED_ARRIVAL', 'DEPARTURE_TIME', 'ARRIVAL_TIME', 'SCHEDULED_TIME', 'DISTANCE']\n",
    "std_ftrs = ['DEPARTURE_DELAY', 'TAXI_OUT', 'WHEELS_OFF', 'ELAPSED_TIME', 'AIR_TIME', 'WHEELS_ON', 'TAXI_IN', 'AIR_SYSTEM_DELAY', 'SECURITY_DELAY', 'AIRLINE_DELAY', 'LATE_AIRCRAFT_DELAY', 'WEATHER_DELAY']\n",
    "\n",
    "# collect all the encoders\n",
    "preprocessor = ColumnTransformer(\n",
    "    transformers=[\n",
    "        ('onehot', OneHotEncoder(sparse=False,handle_unknown='ignore'), onehot_ftrs),\n",
    "        ('minmax', MinMaxScaler(), minmax_ftrs),\n",
    "        ('std', StandardScaler(), std_ftrs)])\n",
    "\n",
    "clf = Pipeline(steps=[('preprocessor', preprocessor)]) # for now we only preprocess \n",
    "                                                       # later on we will add other steps here\n",
    "\n",
    "# Final prepped data to be used in ml algorithm\n",
    "X_train_prep = clf.fit_transform(X_train)\n",
    "X_val_prep = clf.transform(X_val)\n",
    "X_test_prep = clf.transform(X_test)"
   ]
  },
  {
   "cell_type": "code",
   "execution_count": 72,
   "id": "27c3adf3-af12-434e-b14e-1258a52a6083",
   "metadata": {},
   "outputs": [
    {
     "name": "stdout",
     "output_type": "stream",
     "text": [
      "MONTH 0\n",
      "DAY 0\n",
      "DAY_OF_WEEK 0\n",
      "AIRLINE 0\n",
      "FLIGHT_NUMBER 0\n",
      "TAIL_NUMBER 0\n",
      "DESTINATION_AIRPORT 0\n",
      "SCHEDULED_DEPARTURE 0\n",
      "DEPARTURE_TIME 0\n",
      "DEPARTURE_DELAY 0\n",
      "TAXI_OUT 0\n",
      "WHEELS_OFF 0\n",
      "SCHEDULED_TIME 0\n",
      "ELAPSED_TIME 0\n",
      "AIR_TIME 0\n",
      "DISTANCE 0\n",
      "WHEELS_ON 0\n",
      "TAXI_IN 0\n",
      "SCHEDULED_ARRIVAL 0\n",
      "ARRIVAL_TIME 0\n",
      "ARRIVAL_DELAY 0\n",
      "AIR_SYSTEM_DELAY 83441\n",
      "SECURITY_DELAY 83441\n",
      "AIRLINE_DELAY 83441\n",
      "LATE_AIRCRAFT_DELAY 83441\n",
      "WEATHER_DELAY 83441\n"
     ]
    }
   ],
   "source": [
    "# Examine missing values\n",
    "for i in df.columns:\n",
    "    print(i, df[i].isnull().sum())\n",
    "\n"
   ]
  }
 ],
 "metadata": {
  "kernelspec": {
   "display_name": "Python 3 (ipykernel)",
   "language": "python",
   "name": "python3"
  },
  "language_info": {
   "codemirror_mode": {
    "name": "ipython",
    "version": 3
   },
   "file_extension": ".py",
   "mimetype": "text/x-python",
   "name": "python",
   "nbconvert_exporter": "python",
   "pygments_lexer": "ipython3",
   "version": "3.11.4"
  }
 },
 "nbformat": 4,
 "nbformat_minor": 5
}
